{
 "cells": [
  {
   "cell_type": "code",
   "execution_count": 1,
   "metadata": {},
   "outputs": [],
   "source": [
    "# importing all the required Libraries\n",
    "from collections import Counter\n",
    "import cv2\n",
    "import os\n",
    "import glob\n",
    "import skimage\n",
    "import numpy as np\n",
    "import pandas as pd\n",
    "import seaborn as sn\n",
    "import preprocessing\n",
    "from tqdm import tqdm\n",
    "from PIL import Image\n",
    "from os import listdir\n",
    "import matplotlib.pyplot as plt\n",
    "from skimage.transform import resize\n",
    "from collections import Counter\n",
    "\n",
    "sn.set()\n",
    "\n",
    "from sklearn.svm import SVC # SVC\n",
    "from sklearn import metrics\n",
    "from sklearn.utils import shuffle\n",
    "from xgboost import XGBClassifier # XGBClassifier\n",
    "from sklearn import metrics\n",
    "from sklearn.metrics import confusion_matrix, classification_report\n",
    "from sklearn.utils import compute_class_weight\n",
    "from sklearn.preprocessing import MinMaxScaler,LabelBinarizer\n",
    "from sklearn.ensemble import AdaBoostClassifier # AdaBoostClassifier\n",
    "from sklearn.neighbors import KNeighborsClassifier # KNeighborsClassifier\n",
    "from sklearn.ensemble import RandomForestClassifier # RandomForestClassifier\n",
    "from sklearn.model_selection import train_test_split\n",
    "\n",
    "import tensorflow \n",
    "from tensorflow.keras.utils import to_categorical\n",
    "from tensorflow.keras.metrics import AUC\n",
    "from tensorflow.keras.preprocessing import image\n",
    "from tensorflow.keras.models import Model, Sequential\n",
    "from tensorflow.keras.applications.vgg16 import VGG16 # VGG16\n",
    "from tensorflow.keras.applications.vgg19 import VGG19 # VGG19\n",
    "from tensorflow.keras.applications.resnet50 import ResNet50 # ResNet50\n",
    "from tensorflow.keras.applications.xception import Xception # Xception\n",
    "from tensorflow.keras.applications.mobilenet import MobileNet # MobileNet\n",
    "from tensorflow.keras.applications.nasnet import NASNetMobile # NASNetMobile\n",
    "from tensorflow.keras.applications.densenet import DenseNet169 # DenseNet169\n",
    "from tensorflow.keras.applications.densenet import DenseNet121 # DenseNet121\n",
    "from tensorflow.keras.applications.mobilenet_v2 import MobileNetV2 # MobileNetV2\n",
    "from tensorflow.keras.applications.inception_v3 import InceptionV3 # InceptionV3\n",
    "from tensorflow.keras.layers import Input, Dense, Dropout, BatchNormalization, Flatten, Activation, GlobalAveragePooling2D,Conv2D, MaxPooling2D\n",
    "from tensorflow.keras.callbacks import EarlyStopping, ModelCheckpoint"
   ]
  },
  {
   "cell_type": "code",
   "execution_count": 2,
   "metadata": {},
   "outputs": [],
   "source": [
    "def loadImages(path):\n",
    "    '''\n",
    "        parameters\n",
    "        ----------\n",
    "        path : input path of the images\n",
    "        \n",
    "        returns\n",
    "        -------\n",
    "        loadedImages : list of loaded images \n",
    "    '''\n",
    "    sample = []\n",
    "    \n",
    "    for filename in glob.glob(path):\n",
    "        \n",
    "        img = cv2.imread(filename)\n",
    "        img = skimage.transform.resize(img, (224, 224, 3))\n",
    "        IMG = np.array(img)\n",
    "        sample.append(IMG)\n",
    "        \n",
    "    return sample"
   ]
  },
  {
   "cell_type": "code",
   "execution_count": 3,
   "metadata": {},
   "outputs": [],
   "source": [
    "train_path1 = 'train/NonDemented/*.jpg' \n",
    "train_path2 = 'train/VeryMildDemented/*.jpg'\n",
    "train_path3 = 'train/MildDemented/*.jpg'\n",
    "train_path4 = 'train/ModerateDemented/*.jpg'\n",
    "\n",
    "test_path1 = 'test/NonDemented/*.jpg' \n",
    "test_path2 = 'test/VeryMildDemented/*.jpg'\n",
    "test_path3 = 'test/MildDemented/*.jpg'\n",
    "test_path4 = 'test/ModerateDemented/*.jpg'"
   ]
  },
  {
   "cell_type": "code",
   "execution_count": 4,
   "metadata": {},
   "outputs": [],
   "source": [
    "train_ND = loadImages(train_path1)\n",
    "train_VMD = loadImages(train_path2)\n",
    "train_MID = loadImages(train_path3)\n",
    "train_MOD = loadImages(train_path4)\n",
    "\n",
    "test_ND = loadImages(test_path1)\n",
    "test_VMD = loadImages(test_path2)\n",
    "test_MID = loadImages(test_path3)\n",
    "test_MOD = loadImages(test_path4)"
   ]
  },
  {
   "cell_type": "code",
   "execution_count": 5,
   "metadata": {},
   "outputs": [],
   "source": [
    "#%% CREATION OF DATASETS\n",
    "\n",
    "df_train_ND = pd.DataFrame({'image':train_ND, 'label': 'ND'})\n",
    "df_train_VMD = pd.DataFrame({'image':train_VMD, 'label': 'VMD'})\n",
    "df_train_MID = pd.DataFrame({'image':train_MID, 'label': 'MID'})\n",
    "df_train_MOD = pd.DataFrame({'image':train_MOD, 'label': 'MOD'})\n",
    "\n",
    "df_test_ND = pd.DataFrame({'image':test_ND, 'label': 'ND'})\n",
    "df_test_VMD = pd.DataFrame({'image':test_VMD, 'label': 'VMD'})\n",
    "df_test_MID = pd.DataFrame({'image':test_MID, 'label': 'MID'})\n",
    "df_test_MOD = pd.DataFrame({'image':test_MOD, 'label': 'MOD'})"
   ]
  },
  {
   "cell_type": "code",
   "execution_count": 6,
   "metadata": {},
   "outputs": [],
   "source": [
    "final_data = [df_train_ND, df_train_VMD, df_train_MID, df_train_MOD, df_test_ND, df_test_VMD, df_test_MID, df_test_MOD]\n",
    "final_data = pd.concat(final_data)"
   ]
  },
  {
   "cell_type": "code",
   "execution_count": 7,
   "metadata": {},
   "outputs": [
    {
     "name": "stdout",
     "output_type": "stream",
     "text": [
      "Entire data size: (6400, 2)\n"
     ]
    }
   ],
   "source": [
    "print(\"Entire data size:\",final_data.shape)"
   ]
  },
  {
   "cell_type": "code",
   "execution_count": 8,
   "metadata": {},
   "outputs": [],
   "source": [
    "#%% TRAIN LABEL SEPARATION\n",
    "\n",
    "train_data = final_data['image']\n",
    "labels = final_data['label']"
   ]
  },
  {
   "cell_type": "code",
   "execution_count": 9,
   "metadata": {},
   "outputs": [
    {
     "name": "stdout",
     "output_type": "stream",
     "text": [
      "Labels Count: Counter({'ND': 3200, 'VMD': 2240, 'MID': 896, 'MOD': 64})\n"
     ]
    }
   ],
   "source": [
    "#%% LOOKING AT THE AMOUNT OF ITEMS PER CLASS \n",
    "\n",
    "print(\"Labels Count:\",Counter(np.array(labels)))"
   ]
  },
  {
   "cell_type": "code",
   "execution_count": 10,
   "metadata": {},
   "outputs": [
    {
     "name": "stdout",
     "output_type": "stream",
     "text": [
      "[2 2 2 ... 1 1 1]\n"
     ]
    }
   ],
   "source": [
    "#%% ENCODING THE LABELS\n",
    "from sklearn.preprocessing import LabelEncoder\n",
    "onehot = LabelEncoder()\n",
    "labels = onehot.fit_transform(labels)\n",
    "print(labels)"
   ]
  },
  {
   "cell_type": "code",
   "execution_count": 11,
   "metadata": {},
   "outputs": [],
   "source": [
    "#%% SPLITTING INTO TRAIN AND TEST SET, TRAIN SET WILL BE FURTHER SPLIT INTO TRAIN AND VALIDATION SET\n",
    "X_train, X_test, y_train, y_test = train_test_split(train_data, labels,\n",
    "                                                  test_size = 0.2,\n",
    "                                                  stratify = labels,\n",
    "                                                  shuffle = True,\n",
    "                                                  random_state = 42)"
   ]
  },
  {
   "cell_type": "code",
   "execution_count": 12,
   "metadata": {},
   "outputs": [
    {
     "name": "stdout",
     "output_type": "stream",
     "text": [
      "length X_train: 5120\n",
      "length y_train: 5120\n",
      "length X_test: 1280\n",
      "length y_test: 1280\n"
     ]
    }
   ],
   "source": [
    "print('length X_train:', len(X_train))\n",
    "print('length y_train:', len(y_train))\n",
    "\n",
    "print('length X_test:',  len(X_test))\n",
    "print('length y_test:', len(y_test))"
   ]
  },
  {
   "cell_type": "code",
   "execution_count": 13,
   "metadata": {},
   "outputs": [],
   "source": [
    "X_train = np.array(X_train)\n",
    "X_test = np.array(X_test)"
   ]
  },
  {
   "cell_type": "code",
   "execution_count": 14,
   "metadata": {},
   "outputs": [
    {
     "name": "stdout",
     "output_type": "stream",
     "text": [
      "(5120, 224, 224, 3)\n"
     ]
    }
   ],
   "source": [
    "x_train= np.empty((len(X_train),X_train[0].shape[0],X_train[0].shape[1],X_train[0].shape[2]))\n",
    "for i,x in enumerate(X_train):\n",
    "    x_train[i]=X_train[i]\n",
    "print(x_train.shape)"
   ]
  },
  {
   "cell_type": "code",
   "execution_count": 15,
   "metadata": {},
   "outputs": [
    {
     "name": "stdout",
     "output_type": "stream",
     "text": [
      "(1280, 224, 224, 3)\n"
     ]
    }
   ],
   "source": [
    "x_test= np.empty((len(X_test),X_test[0].shape[0],X_test[0].shape[1],X_test[0].shape[2]))\n",
    "for i,x in enumerate(X_test):\n",
    "    x_test[i]=X_test[i]\n",
    "print(x_test.shape)"
   ]
  },
  {
   "cell_type": "code",
   "execution_count": 16,
   "metadata": {},
   "outputs": [
    {
     "data": {
      "text/plain": [
       "(224, 224, 3)"
      ]
     },
     "execution_count": 16,
     "metadata": {},
     "output_type": "execute_result"
    }
   ],
   "source": [
    "x_train[0].shape"
   ]
  },
  {
   "cell_type": "code",
   "execution_count": 17,
   "metadata": {},
   "outputs": [],
   "source": [
    "base_model = NASNetMobile(include_top=False, weights='imagenet', input_shape=(224,224,3))\n",
    "x = base_model.output\n",
    "x = GlobalAveragePooling2D()(x)\n",
    "x = Dense(128, activation='tanh')(x)\n",
    "\n",
    "predictions = Dense(4, activation='tanh')(x)\n",
    "\n",
    "model_feat = Model(inputs=base_model.input,outputs=predictions)\n",
    "\n",
    "train_features = model_feat.predict(x_train)\n",
    "test_features=model_feat.predict(x_test)"
   ]
  },
  {
   "cell_type": "code",
   "execution_count": 18,
   "metadata": {},
   "outputs": [],
   "source": [
    "# Getting Train and validation accuracy\n",
    "x_train_acc, x_val_acc, y_train_acc, y_val_acc = train_test_split(train_features,y_train,\n",
    "                                                  test_size = 0.2,\n",
    "                                                  stratify = y_train,\n",
    "                                                  shuffle = True,\n",
    "                                                  random_state = 42)"
   ]
  },
  {
   "cell_type": "code",
   "execution_count": 19,
   "metadata": {},
   "outputs": [],
   "source": [
    "X_test,y_test=test_features,y_test"
   ]
  },
  {
   "cell_type": "code",
   "execution_count": 20,
   "metadata": {},
   "outputs": [
    {
     "name": "stdout",
     "output_type": "stream",
     "text": [
      "length X_train: 4096\n",
      "length y_train: 4096\n",
      "length X_val: 1024\n",
      "length y_val: 1024\n",
      "length X_test: 1280\n",
      "length y_test: 1280\n"
     ]
    }
   ],
   "source": [
    "print('length X_train:', len(x_train_acc))\n",
    "print('length y_train:', len(y_train_acc))\n",
    "\n",
    "print('length X_val:',  len(x_val_acc))\n",
    "print('length y_val:', len(y_val_acc))\n",
    "\n",
    "print('length X_test:',  len(X_test))\n",
    "print('length y_test:', len(y_test))"
   ]
  },
  {
   "cell_type": "code",
   "execution_count": null,
   "metadata": {},
   "outputs": [],
   "source": [
    "#%% Fitting Model and Predicting the validationa and test cases\n",
    "\n",
    "model=SVC()\n",
    "model.fit(x_train_acc,y_train_acc)\n",
    "          \n",
    "y_pred_train= model.predict(x_train_acc)\n",
    "y_pred_val=model.predict(x_val_acc)\n",
    "y_pred_test=model.predict(X_test)"
   ]
  },
  {
   "cell_type": "code",
   "execution_count": 23,
   "metadata": {},
   "outputs": [
    {
     "name": "stdout",
     "output_type": "stream",
     "text": [
      "Counter({2: 2048, 3: 1433, 0: 574, 1: 41})\n",
      "Counter({2: 3956, 3: 138, 0: 2})\n"
     ]
    },
    {
     "data": {
      "image/png": "[encoded data removed]",
      "text/plain": [
       "<Figure size 576x504 with 2 Axes>"
      ]
     },
     "metadata": {},
     "output_type": "display_data"
    },
    {
     "data": {
      "text/plain": [
       "<Figure size 432x288 with 0 Axes>"
      ]
     },
     "metadata": {},
     "output_type": "display_data"
    }
   ],
   "source": [
    "print(Counter(y_train_acc))\n",
    "print(Counter(y_pred_train))\n",
    "\n",
    "conf_mx = confusion_matrix(y_train_acc, y_pred_train)\n",
    "conf_mx\n",
    "\n",
    "heat_cm = pd.DataFrame(conf_mx, columns=np.unique(y_train_acc), index = np.unique(y_train_acc))\n",
    "heat_cm.index.name = 'Actual'\n",
    "heat_cm.columns.name = 'Predicted'\n",
    "plt.figure(figsize = (8,7))\n",
    "sn.set(font_scale=1.4) # For label size\n",
    "sn.heatmap(heat_cm, cmap=\"Blues\", annot=True, annot_kws={\"size\": 16},fmt='g')# font size\n",
    "plt.show()\n",
    "plt.savefig('train confusion matrix.png')"
   ]
  },
  {
   "cell_type": "code",
   "execution_count": 26,
   "metadata": {},
   "outputs": [
    {
     "name": "stdout",
     "output_type": "stream",
     "text": [
      "Counter({2: 512, 3: 359, 0: 143, 1: 10})\n",
      "Counter({2: 984, 3: 40})\n"
     ]
    },
    {
     "data": {
      "image/png": "[encoded data removed]",
      "text/plain": [
       "<Figure size 576x504 with 2 Axes>"
      ]
     },
     "metadata": {},
     "output_type": "display_data"
    },
    {
     "data": {
      "text/plain": [
       "<Figure size 432x288 with 0 Axes>"
      ]
     },
     "metadata": {},
     "output_type": "display_data"
    }
   ],
   "source": [
    "print(Counter(y_val_acc))\n",
    "print(Counter(y_pred_val))\n",
    "\n",
    "conf_mx = confusion_matrix(y_val_acc, y_pred_val)\n",
    "conf_mx\n",
    "\n",
    "heat_cm = pd.DataFrame(conf_mx, columns=np.unique(y_train_acc), index = np.unique(y_train_acc))\n",
    "heat_cm.index.name = 'Actual'\n",
    "heat_cm.columns.name = 'Predicted'\n",
    "plt.figure(figsize = (8,7))\n",
    "sn.set(font_scale=1.4) # For label size\n",
    "sn.heatmap(heat_cm, cmap=\"Blues\", annot=True, annot_kws={\"size\": 16},fmt='g')# font size\n",
    "plt.show()\n",
    "plt.savefig('validation confusion matrix.png')"
   ]
  },
  {
   "cell_type": "code",
   "execution_count": 27,
   "metadata": {},
   "outputs": [
    {
     "name": "stdout",
     "output_type": "stream",
     "text": [
      "Counter({2: 640, 3: 448, 0: 179, 1: 13})\n",
      "Counter({2: 1237, 3: 42, 0: 1})\n"
     ]
    },
    {
     "data": {
      "image/png": "[encoded data removed]",
      "text/plain": [
       "<Figure size 576x504 with 2 Axes>"
      ]
     },
     "metadata": {},
     "output_type": "display_data"
    },
    {
     "data": {
      "text/plain": [
       "<Figure size 432x288 with 0 Axes>"
      ]
     },
     "metadata": {},
     "output_type": "display_data"
    }
   ],
   "source": [
    "#%% CONFUSION MATRIX\n",
    "print(Counter(y_test))\n",
    "print(Counter(y_pred_test))\n",
    "\n",
    "conf_mx = confusion_matrix(y_test, y_pred_test)\n",
    "conf_mx\n",
    "\n",
    "heat_cm = pd.DataFrame(conf_mx, columns=np.unique(y_test), index = np.unique(y_test))\n",
    "heat_cm.index.name = 'Actual'\n",
    "heat_cm.columns.name = 'Predicted'\n",
    "plt.figure(figsize = (8,7))\n",
    "sn.set(font_scale=1.4) # For label size\n",
    "sn.heatmap(heat_cm, cmap=\"Blues\", annot=True, annot_kws={\"size\": 16},fmt='g')# font size\n",
    "plt.show()\n",
    "plt.savefig('test confusion matrix.png')"
   ]
  },
  {
   "cell_type": "code",
   "execution_count": 32,
   "metadata": {},
   "outputs": [],
   "source": [
    "def print_performance_metrics(y_test, max_y_pred_test):\n",
    "    \"\"\"\n",
    "        parameters\n",
    "        ----------\n",
    "        y_test : actual label (must be in non-one hot encoded form)\n",
    "        y_pred_test : predicted labels (must be in non-one hot encoded form, common output of predict methods of classifers)\n",
    "\n",
    "        returns\n",
    "        -------\n",
    "        prints the accuracy, precision, recall, F1 score, ROC AUC score, Cohen Kappa Score, Matthews Corrcoef and classification report   \n",
    "    \n",
    "    \"\"\"\n",
    "    print('Accuracy:', np.round(metrics.accuracy_score(y_test, max_y_pred_test),4))\n",
    "    print('Precision:', np.round(metrics.precision_score(y_test, max_y_pred_test, average='weighted'),4))\n",
    "    print('Recall:', np.round(metrics.recall_score(y_test, max_y_pred_test, average='weighted'),4))\n",
    "    print('F1 Score:', np.round(metrics.f1_score(y_test, max_y_pred_test, average='weighted'),4))\n",
    "    #print('ROC AUC Score:', np.round(metrics.roc_auc_score(y_test,  max_y_pred_test,multi_class='ovo', average='weighted'),4))\n",
    "    print('Cohen Kappa Score:', np.round(metrics.cohen_kappa_score(y_test, max_y_pred_test),4))\n",
    "    print('Matthews Corrcoef:', np.round(metrics.matthews_corrcoef(y_test, max_y_pred_test),4)) \n",
    "    print('\\t\\tClassification Report:\\n', metrics.classification_report(y_test, max_y_pred_test))"
   ]
  },
  {
   "cell_type": "code",
   "execution_count": 33,
   "metadata": {},
   "outputs": [
    {
     "name": "stdout",
     "output_type": "stream",
     "text": [
      "------------------------ train set ------------------------\n",
      "Accuracy: 0.5115\n",
      "Precision: 0.9526\n",
      "Recall: 0.5115\n",
      "F1 Score: 0.6519\n",
      "Cohen Kappa Score: 0.0331\n",
      "Matthews Corrcoef: 0.0834\n",
      "\t\tClassification Report:\n",
      "               precision    recall  f1-score   support\n",
      "\n",
      "           0       0.00      0.50      0.00         2\n",
      "           1       0.00      0.00      0.00         0\n",
      "           2       0.98      0.51      0.67      3956\n",
      "           3       0.05      0.57      0.10       138\n",
      "\n",
      "    accuracy                           0.51      4096\n",
      "   macro avg       0.26      0.39      0.19      4096\n",
      "weighted avg       0.95      0.51      0.65      4096\n",
      "\n",
      "------------------------ validation set ------------------------\n",
      "Accuracy: 0.5098\n",
      "Precision: 0.9426\n",
      "Recall: 0.5098\n",
      "F1 Score: 0.6477\n",
      "Cohen Kappa Score: 0.0308\n",
      "Matthews Corrcoef: 0.0731\n",
      "\t\tClassification Report:\n",
      "               precision    recall  f1-score   support\n",
      "\n",
      "           0       0.00      0.00      0.00         0\n",
      "           1       0.00      0.00      0.00         0\n",
      "           2       0.98      0.51      0.67       984\n",
      "           3       0.06      0.53      0.11        40\n",
      "\n",
      "    accuracy                           0.51      1024\n",
      "   macro avg       0.26      0.26      0.19      1024\n",
      "weighted avg       0.94      0.51      0.65      1024\n",
      "\n",
      "------------------------ test set ------------------------\n",
      "Accuracy: 0.5039\n",
      "Precision: 0.9481\n",
      "Recall: 0.5039\n",
      "F1 Score: 0.6481\n",
      "Cohen Kappa Score: 0.018\n",
      "Matthews Corrcoef: 0.0458\n",
      "\t\tClassification Report:\n",
      "               precision    recall  f1-score   support\n",
      "\n",
      "           0       0.00      0.00      0.00         1\n",
      "           1       0.00      0.00      0.00         0\n",
      "           2       0.98      0.51      0.67      1237\n",
      "           3       0.04      0.43      0.07        42\n",
      "\n",
      "    accuracy                           0.50      1280\n",
      "   macro avg       0.25      0.23      0.19      1280\n",
      "weighted avg       0.95      0.50      0.65      1280\n",
      "\n"
     ]
    },
    {
     "name": "stderr",
     "output_type": "stream",
     "text": [
      "C:\\Users\\iamma\\.conda\\envs\\tensorflow_env\\lib\\site-packages\\sklearn\\metrics\\_classification.py:1221: UndefinedMetricWarning: Recall is ill-defined and being set to 0.0 in labels with no true samples. Use `zero_division` parameter to control this behavior.\n",
      "  _warn_prf(average, modifier, msg_start, len(result))\n",
      "C:\\Users\\iamma\\.conda\\envs\\tensorflow_env\\lib\\site-packages\\sklearn\\metrics\\_classification.py:1221: UndefinedMetricWarning: Recall and F-score are ill-defined and being set to 0.0 in labels with no true samples. Use `zero_division` parameter to control this behavior.\n",
      "  _warn_prf(average, modifier, msg_start, len(result))\n"
     ]
    }
   ],
   "source": [
    "print('------------------------ train set ------------------------')\n",
    "print_performance_metrics(y_pred_train,y_train_acc)\n",
    "\n",
    "print('------------------------ validation set ------------------------')\n",
    "print_performance_metrics(y_pred_val,y_val_acc)\n",
    "\n",
    "print('------------------------ test set ------------------------')\n",
    "print_performance_metrics(y_pred_test,y_test)\n"
   ]
  },
  {
   "cell_type": "code",
   "execution_count": null,
   "metadata": {},
   "outputs": [],
   "source": []
  }
 ],
 "metadata": {
  "kernelspec": {
   "display_name": "Python 3",
   "language": "python",
   "name": "python3"
  },
  "language_info": {
   "codemirror_mode": {
    "name": "ipython",
    "version": 3
   },
   "file_extension": ".py",
   "mimetype": "text/x-python",
   "name": "python",
   "nbconvert_exporter": "python",
   "pygments_lexer": "ipython3",
   "version": "3.7.9"
  }
 },
 "nbformat": 4,
 "nbformat_minor": 4
}
